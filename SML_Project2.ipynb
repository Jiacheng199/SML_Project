{
 "cells": [
  {
   "cell_type": "markdown",
   "metadata": {},
   "source": [
    "Load data from dataset"
   ]
  },
  {
   "cell_type": "code",
   "execution_count": 4,
   "metadata": {},
   "outputs": [
    {
     "data": {
      "text/plain": [
       "[2455,\n",
       " 1858,\n",
       " 2335,\n",
       " 1543,\n",
       " 1800,\n",
       " 1860,\n",
       " 2000,\n",
       " 2867,\n",
       " 1546,\n",
       " 1874,\n",
       " 2059,\n",
       " 1525,\n",
       " 2590,\n",
       " 4196,\n",
       " 12,\n",
       " 2634,\n",
       " 1543,\n",
       " 1800,\n",
       " 1586,\n",
       " 2866,\n",
       " 3595,\n",
       " 1866,\n",
       " 1670,\n",
       " 2000,\n",
       " 3743,\n",
       " 1542,\n",
       " 1650,\n",
       " 1527,\n",
       " 33,\n",
       " 4407,\n",
       " 1543,\n",
       " 1535,\n",
       " 1962,\n",
       " 1961,\n",
       " 1543,\n",
       " 33,\n",
       " 1700,\n",
       " 1543,\n",
       " 1535,\n",
       " 1647,\n",
       " 1546,\n",
       " 1580,\n",
       " 4720,\n",
       " 12,\n",
       " 1731,\n",
       " 4231,\n",
       " 2601,\n",
       " 1553,\n",
       " 1704,\n",
       " 1605,\n",
       " 2456,\n",
       " 1543,\n",
       " 3281,\n",
       " 1594,\n",
       " 4407,\n",
       " 2168,\n",
       " 1542,\n",
       " 1586,\n",
       " 3781,\n",
       " 2471,\n",
       " 1525,\n",
       " 1859,\n",
       " 1669,\n",
       " 2512,\n",
       " 4572,\n",
       " 1546,\n",
       " 1609,\n",
       " 3781,\n",
       " 2471,\n",
       " 1525,\n",
       " 3393,\n",
       " 12,\n",
       " 37,\n",
       " 1712,\n",
       " 1586,\n",
       " 4196,\n",
       " 1650,\n",
       " 1527,\n",
       " 3281,\n",
       " 1594,\n",
       " 4407,\n",
       " 1800,\n",
       " 4708,\n",
       " 1904,\n",
       " 2059,\n",
       " 2411,\n",
       " 12]"
      ]
     },
     "execution_count": 4,
     "metadata": {},
     "output_type": "execute_result"
    }
   ],
   "source": [
    "#read train.json data \n",
    "import pandas as pd\n",
    "import numpy as np\n",
    "import matplotlib.pyplot as plt\n",
    "import seaborn as sns\n",
    "import json\n",
    "from pandas.io.json import json_normalize\n",
    "import warnings\n",
    "warnings.filterwarnings('ignore')\n",
    "\n",
    "#read train.json data\n",
    "train_data = pd.read_json('train.json')\n",
    "\n",
    "#read test.json data\n",
    "test_data = pd.read_json('test.json')\n",
    "\n",
    "#Pack the prediction result into a csv file\n",
    "def pack_result(result):\n",
    "    result = pd.DataFrame(result)\n",
    "    result.columns = ['ID', 'Prediction']\n",
    "    result.to_csv('result.csv', index=False)\n",
    "\n",
    "\n",
    "#print the abstract attribute of the data\n",
    "train_data['abstract'].head()[0]\n",
    "\n"
   ]
  }
 ],
 "metadata": {
  "kernelspec": {
   "display_name": "Python 3.9.7 ('base')",
   "language": "python",
   "name": "python3"
  },
  "language_info": {
   "codemirror_mode": {
    "name": "ipython",
    "version": 3
   },
   "file_extension": ".py",
   "mimetype": "text/x-python",
   "name": "python",
   "nbconvert_exporter": "python",
   "pygments_lexer": "ipython3",
   "version": "3.9.7"
  },
  "orig_nbformat": 4,
  "vscode": {
   "interpreter": {
    "hash": "4fb6f22b9ea3684756870944b5f3fb664fed3c82022a08a9b2c6685fd75d4878"
   }
  }
 },
 "nbformat": 4,
 "nbformat_minor": 2
}
